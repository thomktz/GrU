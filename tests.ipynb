{
 "cells": [
  {
   "cell_type": "code",
   "execution_count": null,
   "metadata": {},
   "outputs": [],
   "source": [
    "test_1 = [i for i in range(10)]\n",
    "test_2 = np.array(test_1)\n",
    "test_3 = pd.Series([i for i in range(10)])\n",
    "test_4 = [[i for i in range(10)], [i for i in range(10)]]\n",
    "test_5 = np.array(test_4)\n",
    "test_6 = pd.DataFrame(test_4)"
   ]
  }
 ],
 "metadata": {
  "language_info": {
   "name": "python"
  },
  "orig_nbformat": 4
 },
 "nbformat": 4,
 "nbformat_minor": 2
}
